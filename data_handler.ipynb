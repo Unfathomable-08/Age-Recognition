{
 "cells": [
  {
   "cell_type": "code",
   "execution_count": null,
   "id": "b765ed6f",
   "metadata": {
    "vscode": {
     "languageId": "plaintext"
    }
   },
   "outputs": [],
   "source": [
    "import os\n",
    "import torch\n",
    "from torch.utils.data import Dataset\n",
    "from PIL import Image\n",
    "import numpy as np\n",
    "import re"
   ]
  },
  {
   "cell_type": "code",
   "execution_count": null,
   "id": "6f46bb60",
   "metadata": {
    "vscode": {
     "languageId": "plaintext"
    }
   },
   "outputs": [],
   "source": [
    "class CustomDataset(Dataset):\n",
    "    def __init__(self, root_dir):\n",
    "        self.root_dir = root_dir\n",
    "        self.image_paths = sorted([\n",
    "            os.path.join(root_dir, f)\n",
    "            for f in os.listdir(root_dir)\n",
    "            if f.lower().endswith('.png')\n",
    "        ], key=lambda x: int(re.findall(r'\\d+', os.path.basename(x))[0]))\n",
    "\n",
    "    def __len__(self):\n",
    "        return len(self.image_paths)\n",
    "\n",
    "    def get_label(self, idx):\n",
    "        # Define label ranges\n",
    "        ranges = [\n",
    "            (0, 2473, 0),\n",
    "            (2474, 3654, 1),\n",
    "            (3655, 5177, 2),\n",
    "            (5178, 6187, 3),\n",
    "            (6188, 7368, 4),\n",
    "            (7369, 8167, 5),\n",
    "            (8168, 8820, 6),\n",
    "            (8821, 9165, 7),\n",
    "        ]\n",
    "        for start, end, label in ranges:\n",
    "            if start <= idx <= end:\n",
    "                return label\n",
    "        raise ValueError(f\"Index {idx} out of range for labeling.\")\n",
    "\n",
    "    def __getitem__(self, idx):\n",
    "        img_path = self.image_paths[idx]\n",
    "        image = Image.open(img_path).convert('L')  # grayscale\n",
    "        image = image.resize((64, 64))  # or (200, 200) if you want original\n",
    "        image = np.array(image).astype(np.float32) / 255.0\n",
    "        image = (image - 0.5) / 0.5\n",
    "        image = torch.tensor(image).unsqueeze(0)  # [1, H, W]\n",
    "\n",
    "        label = self.get_label(idx)\n",
    "        return image, torch.tensor(label).long()\n"
   ]
  }
 ],
 "metadata": {
  "language_info": {
   "name": "python"
  }
 },
 "nbformat": 4,
 "nbformat_minor": 5
}
