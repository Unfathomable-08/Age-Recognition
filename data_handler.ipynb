import os
import torch
from torch.utils.data import Dataset
from PIL import Image
import numpy as np

class CustomDataset(Dataset):
    def __init__(self, root_dir):
        self.root_dir = root_dir
        self.image_paths = [
            os.path.join(root_dir, img_name)
            for img_name in os.listdir(root_dir)
            if img_name.lower().endswith('.png')
        ]

    def __len__(self):
        return len(self.image_paths)

    def __getitem__(self, idx):
        img_path = self.image_paths[idx]
        image = Image.open(img_path).convert('L')  # grayscale
        image = image.resize((200, 200)) 
        image = np.array(image).astype(np.float32) / 255.0  # scale to [0,1]
        image = (image - 0.5) / 0.5  # normalize to [-1,1]
        image = torch.tensor(image).unsqueeze(0)  # shape: [1, H, W]
        return image
