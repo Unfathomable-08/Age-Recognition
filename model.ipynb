{
 "cells": [
  {
   "cell_type": "code",
   "execution_count": null,
   "id": "a5e409f5",
   "metadata": {
    "vscode": {
     "languageId": "plaintext"
    }
   },
   "outputs": [],
   "source": [
    "import torch\n",
    "import torch.nn as nn\n",
    "import torch.nn.functional as F"
   ]
  },
  {
   "cell_type": "code",
   "execution_count": null,
   "id": "aa8cb076",
   "metadata": {
    "vscode": {
     "languageId": "plaintext"
    }
   },
   "outputs": [],
   "source": [
    "class CNN(nn.module):\n",
    "  def __init__(self, num_classes):\n",
    "    super().__init__()\n",
    "    self.conv1 = nn.Conv2d(1, 32, 3, padding=0) # in_chaanel = 1 for grayscale, out_channel = 32 features, kernel_sizs=3\n",
    "    self.bn1 = nn.BatchNorm2d(32)\n",
    "    self.pool = nn.MaxPool2d(2,2)\n",
    "    self.conv2 = nn.Conv2d(32, 64, 3, padding=0)\n",
    "    self.bn2 = nn.BatchNorm2d(64)\n",
    "    self.conv3 = nn.Conv2d(64, 128, 3, padding=0)\n",
    "    self.bn3 = nn.BatchNorm2d(128)\n",
    "    self.fc1 = nn.Linear(128 * 23 * 23, 512) # 200 => 198 => 99 => 97 => 48 => 46 => 23\n",
    "    self.bn4 = nn.BatchNorm1d(512)\n",
    "    self.fc2 = nn.Linear(512, num_classes)\n",
    "    self.dropout = nn.Dropout(0.5)\n",
    "\n",
    "  def forward(self, x):\n",
    "    x = self.pool(self.bn1(self.conv1(x)))\n",
    "    x = self.pool(self.bn2(self.conv2(x)))\n",
    "    x = self.pool(self.bn3(self.conv3(x)))\n",
    "\n",
    "    x = x.view(-1, 128 * 23 * 23)\n",
    "\n",
    "    x = self.dropout(F.relu(self.bn4(self.fc1(x))))\n",
    "    x = self.fc2(x)"
   ]
  },
  {
   "cell_type": "code",
   "execution_count": null,
   "id": "047f4f8c",
   "metadata": {
    "vscode": {
     "languageId": "plaintext"
    }
   },
   "outputs": [],
   "source": []
  }
 ],
 "metadata": {
  "language_info": {
   "name": "python"
  }
 },
 "nbformat": 4,
 "nbformat_minor": 5
}
